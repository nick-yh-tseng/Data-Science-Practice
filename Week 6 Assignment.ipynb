{
 "cells": [
  {
   "cell_type": "markdown",
   "id": "65622e6e",
   "metadata": {},
   "source": [
    "<h1>Tools for Data Science</h1>"
   ]
  },
  {
   "cell_type": "markdown",
   "id": "06197269",
   "metadata": {},
   "source": [
    "<p>In this notebook, Tools of Data Science are Introduced.<p>"
   ]
  },
  {
   "cell_type": "markdown",
   "id": "4d9a5d29",
   "metadata": {},
   "source": [
    "Some of the popular languages that Data Scientists use are:\n",
    "<ol>\n",
    "    <li>Python.</li>\n",
    "    <li>R.</li>\n",
    "    <li>SQL.</li>\n",
    "    <li>Java.</li>\n",
    "    <li>Julia.</li>\n",
    "    <li>Scala.</li>\n",
    "    <li>C/C++.</li>\n",
    "    <li>JavaScript.</li>\n",
    "</ol>\n"
   ]
  },
  {
   "cell_type": "markdown",
   "id": "d03a308a",
   "metadata": {},
   "source": [
    "Some of the commonly used libraries used by Data Scientists include:\n",
    "<ol>\n",
    "    <li>TensorFlow.</li>\n",
    "    <li>NumPy.</li>\n",
    "    <li>SciPy.</li>\n",
    "    <li>Pandas.</li>\n",
    "    <li>Matplotlib.</li>\n",
    "    <li>Keras.</li>\n",
    "    <li>SciKit-Learn.</li>\n",
    "    <li>PyTorch.</li>\n",
    "    <li>Scrapy.</li>\n",
    "    <li>BeautifulSoup.</li>\n",
    "    <li>LightGBM.</li>\n",
    "    <li>ELI5.</li>\n",
    "    <li>Theano.</li>\n",
    "    <li>NuPIC.</li>\n",
    "    <li>Ramp.</li>\n",
    "    <li>Pipenv.</li>\n",
    "    <li>Bob.</li>\n",
    "    <li>PyBrain.</li>\n",
    "    <li>Caffe2.</li>\n",
    "    <li>Chainer.</li>\n",
    "</ol>"
   ]
  },
  {
   "cell_type": "markdown",
   "id": "d218c9a3",
   "metadata": {},
   "source": [
    "Data Science Tools:\n",
    "\n",
    "<table style=\"width:100%\">\n",
    "  <tr>\n",
    "    <th>Data Science Tools</th>\n",
    "    <th></th>\n",
    "    <th></th>\n",
    "  </tr>\n",
    "  <tr>\n",
    "    <td>TensorFlow</td>\n",
    "    <td></td>\n",
    "    <td></td>\n",
    "  </tr>\n",
    "  <tr>\n",
    "    <td>Apache Spark</td>\n",
    "    <td></td>\n",
    "    <td></td>\n",
    "  </tr>\n",
    "  <tr>\n",
    "    <td>SAS</td>\n",
    "    <td></td>\n",
    "    <td></td>\n",
    "  </tr>\n",
    "</table>"
   ]
  },
  {
   "cell_type": "code",
   "execution_count": 6,
   "id": "23dd449d",
   "metadata": {},
   "outputs": [
    {
     "data": {
      "text/plain": [
       "10"
      ]
     },
     "execution_count": 6,
     "metadata": {},
     "output_type": "execute_result"
    }
   ],
   "source": [
    "# Arithmetic operations\n",
    "code = compile(\"7 + 3\", \"<string>\", \"eval\")\n",
    "eval(code)\n",
    "# Result: 10\n"
   ]
  },
  {
   "cell_type": "code",
   "execution_count": 7,
   "id": "01cc0d80",
   "metadata": {},
   "outputs": [
    {
     "data": {
      "text/plain": [
       "34"
      ]
     },
     "execution_count": 7,
     "metadata": {},
     "output_type": "execute_result"
    }
   ],
   "source": [
    "code1 = compile(\"(3 + 14) * 2\", \"<string>\", \"eval\")\n",
    "eval(code1)\n",
    "# Result: 34"
   ]
  },
  {
   "cell_type": "code",
   "execution_count": 15,
   "id": "95f869ee",
   "metadata": {},
   "outputs": [
    {
     "name": "stdout",
     "output_type": "stream",
     "text": [
      "0 days, 5.116666666666666 hours, 0 mins. \n"
     ]
    }
   ],
   "source": [
    "days = 0\n",
    "hours = 0\n",
    "mins = 0\n",
    "\n",
    "time = 307\n",
    "\n",
    "#days = time / 1440\n",
    "leftover_minutes = time % 1440\n",
    "hours = leftover_minutes / 60\n",
    "#mins = time - (days*1440) - (hours*60)\n",
    "print(str(days) + \" days, \" + str(hours) + \" hours, \" + str(mins) +  \" mins. \")\n"
   ]
  },
  {
   "cell_type": "markdown",
   "id": "0ffeca7e",
   "metadata": {},
   "source": [
    "<p>Below the introduction cell created in Exercise 3, insert a new markdown cell to list the objectives that this notebook covered (i.e. some of the key takeaways from the course). In this new cell start with an introductory line titled: Objectives: in bold font. Then using an unordered list (bullets) indicate 3 to 5 items covered in this notebook, such as List popular languages for Data Science.</p>"
   ]
  },
  {
   "cell_type": "markdown",
   "id": "b42d0757",
   "metadata": {},
   "source": [
    "<h2>Author:</h2> Yao-Hsun Tseng"
   ]
  },
  {
   "cell_type": "code",
   "execution_count": null,
   "id": "ba05d8fe",
   "metadata": {},
   "outputs": [],
   "source": []
  }
 ],
 "metadata": {
  "kernelspec": {
   "display_name": "Python 3 (ipykernel)",
   "language": "python",
   "name": "python3"
  },
  "language_info": {
   "codemirror_mode": {
    "name": "ipython",
    "version": 3
   },
   "file_extension": ".py",
   "mimetype": "text/x-python",
   "name": "python",
   "nbconvert_exporter": "python",
   "pygments_lexer": "ipython3",
   "version": "3.11.4"
  }
 },
 "nbformat": 4,
 "nbformat_minor": 5
}
